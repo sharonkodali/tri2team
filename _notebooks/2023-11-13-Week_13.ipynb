{
 "cells": [
  {
   "cell_type": "markdown",
   "metadata": {},
   "source": [
    "---\n",
    "comments: true\n",
    "layout: post\n",
    "title: Binary Memory Quiz\n",
    "type: hacks\n",
    "courses: { csp: {week: 13} }\n",
    "categories: [C4.1]\n",
    "---"
   ]
  },
  {
   "cell_type": "markdown",
   "metadata": {},
   "source": [
    "### Binary Memory Quiz Ideas \n",
    "\n",
    "    - Must include real binary abstractions (ie. ASCII, unicode, images, logic gates)\n",
    "\n",
    "#### General Idea \n",
    "\n",
    "For this project, we divided up into four different features- 2 from the list and 2 external ones. Sharon and I are doing external features and Ameer and Peyton are doing ones listed.\n",
    "\n",
    "    Tara - Binary Memory Quiz\n",
    "    Sharon - Binary Math Quiz (Logic gates, XOR)\n",
    "    Peyton - UI Concept/Design\n",
    "    Ameer - Binary Logic of Shift \n",
    "\n",
    "We are coming up with a general theme to \"connect\" each feature without compromising the work. Ideas like space, beach, mountains, are potential themes that will be the background for our features. They will be displayed on one website and \"link\" to each other. \n",
    "\n",
    "### Aspects of Features \n",
    "\n",
    "#### ASCII\n",
    "\n",
    "    - ASCII are drawings made from the American Standard Code for Information Interchange. Such as :-) (smiley face)\n",
    "    - For the memory game aspect, we can code a card game that displays different drawings and turns around, then displays a mixed up order of them asking the user to click on the cards to match \n",
    "\n",
    "#### Unicode \n",
    "\n",
    "    - Unicode is a computing standard that aims to provide a unique number for every character, symbol, and glyph across all writing systems and languages used worldwide \n",
    "\n",
    "### Images \n",
    "\n",
    "    - Images will be used to add visuals to the player.  \n",
    "\n",
    "### Binary Memory Quiz Final\n",
    "\n",
    "The \"theme\" or point of this feature is to save the astronauts from being trapped in space. If the user is able to figure out a code, the astronauts can input it into their rocketship to return them back to Earth safely. The code will be deciphered through a memory game in which the user has to select the correct binary number for the character they inputted. Difficulty is subjective, as a longer word would be more difficult. If the user wins, they will be encouraged to try a harder word.\n",
    "\n",
    "#### ASCII \n",
    "\n",
    "For my feature, I will be using ASCII characters to help convert an inputed character to binary. A user will input a character (ie. b) or a word, if they want the game to be more advanced (ie. blue). Then, the character(s) will be converted to ASCII, which is a numeric value. For b, the ASCII is 66. Then, the ASCII will be converted into binary numbers. So 66 will become 1000010. \n",
    "\n",
    "#### Memory Game \n",
    "\n",
    "Once the binary number is produced, the user will see it for a limited amount of time before it dissapears and is given alongside two other similar versions of that number. Out of these three options, the user will have to pick the card that has the binary number appropriate To produce the other two \"fake\" numbers, I will write a code that scrambles the amount fo 1s and 0s but is the same character length (ie. fake possibilites of 1000010 could be 1100000 and 1001000).\n",
    "\n",
    "#### Images \n",
    "\n",
    "Images will be utilized through visuals. If the user selects the correct binary number, the user will see a \"Congratulations! Play again with a longer word!\" for saving the astronauts. If they failed, the user will see a \"So close! Try again!\" with the same options. \n"
   ]
  }
 ],
 "metadata": {
  "language_info": {
   "name": "python"
  }
 },
 "nbformat": 4,
 "nbformat_minor": 2
}
